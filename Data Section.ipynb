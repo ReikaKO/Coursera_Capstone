{
 "cells": [
  {
   "cell_type": "markdown",
   "metadata": {},
   "source": [
    "# Data:\n",
    "\n",
    "### The data that will be used for this project is the \"collisions\" data provided by the seattle police department using recoreded Traffic Records from 2004-Present. The Meta data for this data is available from: https://s3.us.cloud-object-storage.appdomain.cloud/cf-courses-data/CognitiveClass/DP0701EN/version-2/Metadata.pdf. \n",
    "\n",
    "### For this investigation, the dependent variable will be the severity code (\"SEVERITYCODE\") which ranks the level of severity of a collision from 1-2. \n",
    "\n",
    "#### *Independent Variable selection*\n",
    "The original data consisted of 38 independent variables and 194,673 incidences.However, not all of these columns in the data are relevant to the model. Columns were dropped from the data for the following reasons:\n",
    "1. Due to not being necessary for model e.g. unique keys for the incidence \n",
    "2. Being related to describing the conditions of the insidence post crash which would not help with predicting the severity of a crash as this information would not be available till after a crass occured.\n",
    "3. Data columns with large amounts of NaN.\n",
    "4. Being a repetitive column of an already existing column.\n",
    "5. Too many variations in the data column for one hot key encoding.\n",
    " \n",
    "The column including the time / date/ month/ year, will be divided in to 3 different columns. The day of the week, the hour of the day, and the month. \n",
    "\n",
    "After this process the independent variables will be:¶\n",
    "1. ADDRTYPE - Address type\n",
    "2. WEATHER - Weather conditions\n",
    "3. JUNCTIONTYPE - Junction type\n",
    "4. ROADCOND - Road condition\n",
    "5. LIGHTCOND - light condition\n",
    "6. Dow - Day of week\n",
    "7. Hour - Hour of day\n",
    "8. Month - Month\n",
    "\n",
    "#### *Null*\n",
    "For the Null data there was an option betweem removing the missing data, replacing the missing values with the average or freuency, or leaving as is. Because there wern't that many null values, and replacing it with a average or frequent number could sqew the results, the rows with null values were removed from the data set.\n",
    "\n",
    "the final shape of the data is (182914, 10).\n",
    "\n",
    "#### *Normalisation of Data*\n",
    "Then the data was then normalised through one hot key encoding in order for it to be fed though a machine learning algorithum. \n"
   ]
  },
  {
   "cell_type": "code",
   "execution_count": 1,
   "metadata": {},
   "outputs": [],
   "source": [
    "import pandas as pd\n",
    "import numpy as np"
   ]
  },
  {
   "cell_type": "code",
   "execution_count": 2,
   "metadata": {},
   "outputs": [
    {
     "name": "stdout",
     "output_type": "stream",
     "text": [
      "Requirement already satisfied: seaborn in c:\\users\\tayo\\appdata\\local\\programs\\python\\python38-32\\lib\\site-packages (0.11.0)\n",
      "Requirement already satisfied: pandas>=0.23 in c:\\users\\tayo\\appdata\\local\\programs\\python\\python38-32\\lib\\site-packages (from seaborn) (1.1.2)\n",
      "Requirement already satisfied: scipy>=1.0 in c:\\users\\tayo\\appdata\\local\\programs\\python\\python38-32\\lib\\site-packages (from seaborn) (1.5.2)Note: you may need to restart the kernel to use updated packages.\n"
     ]
    },
    {
     "name": "stderr",
     "output_type": "stream",
     "text": [
      "WARNING: You are using pip version 20.1.1; however, version 20.2.3 is available.\n",
      "You should consider upgrading via the 'c:\\users\\tayo\\appdata\\local\\programs\\python\\python38-32\\python.exe -m pip install --upgrade pip' command.\n"
     ]
    },
    {
     "name": "stdout",
     "output_type": "stream",
     "text": [
      "\n",
      "Requirement already satisfied: numpy>=1.15 in c:\\users\\tayo\\appdata\\local\\programs\\python\\python38-32\\lib\\site-packages (from seaborn) (1.19.2)\n",
      "Requirement already satisfied: matplotlib>=2.2 in c:\\users\\tayo\\appdata\\local\\programs\\python\\python38-32\\lib\\site-packages (from seaborn) (3.3.2)\n",
      "Requirement already satisfied: python-dateutil>=2.7.3 in c:\\users\\tayo\\appdata\\local\\programs\\python\\python38-32\\lib\\site-packages (from pandas>=0.23->seaborn) (2.8.1)\n",
      "Requirement already satisfied: pytz>=2017.2 in c:\\users\\tayo\\appdata\\local\\programs\\python\\python38-32\\lib\\site-packages (from pandas>=0.23->seaborn) (2020.1)\n",
      "Requirement already satisfied: cycler>=0.10 in c:\\users\\tayo\\appdata\\local\\programs\\python\\python38-32\\lib\\site-packages (from matplotlib>=2.2->seaborn) (0.10.0)\n",
      "Requirement already satisfied: pillow>=6.2.0 in c:\\users\\tayo\\appdata\\local\\programs\\python\\python38-32\\lib\\site-packages (from matplotlib>=2.2->seaborn) (7.2.0)\n",
      "Requirement already satisfied: kiwisolver>=1.0.1 in c:\\users\\tayo\\appdata\\local\\programs\\python\\python38-32\\lib\\site-packages (from matplotlib>=2.2->seaborn) (1.2.0)\n",
      "Requirement already satisfied: certifi>=2020.06.20 in c:\\users\\tayo\\appdata\\local\\programs\\python\\python38-32\\lib\\site-packages (from matplotlib>=2.2->seaborn) (2020.6.20)\n",
      "Requirement already satisfied: pyparsing!=2.0.4,!=2.1.2,!=2.1.6,>=2.0.3 in c:\\users\\tayo\\appdata\\local\\programs\\python\\python38-32\\lib\\site-packages (from matplotlib>=2.2->seaborn) (2.4.7)\n",
      "Requirement already satisfied: six>=1.5 in c:\\users\\tayo\\appdata\\local\\programs\\python\\python38-32\\lib\\site-packages (from python-dateutil>=2.7.3->pandas>=0.23->seaborn) (1.15.0)\n"
     ]
    }
   ],
   "source": [
    "pip install seaborn "
   ]
  },
  {
   "cell_type": "code",
   "execution_count": 3,
   "metadata": {},
   "outputs": [],
   "source": [
    "import seaborn as sns"
   ]
  },
  {
   "cell_type": "code",
   "execution_count": 4,
   "metadata": {},
   "outputs": [
    {
     "name": "stdout",
     "output_type": "stream",
     "text": [
      "Requirement already satisfied: heatmapz in c:\\users\\tayo\\appdata\\local\\programs\\python\\python38-32\\lib\\site-packages (0.0.4)\n",
      "Requirement already satisfied: matplotlib>=3.0.3 in c:\\users\\tayo\\appdata\\local\\programs\\python\\python38-32\\lib\\site-packages (from heatmapz) (3.3.2)\n",
      "Requirement already satisfied: seaborn in c:\\users\\tayo\\appdata\\local\\programs\\python\\python38-32\\lib\\site-packages (from heatmapz) (0.11.0)\n",
      "Requirement already satisfied: pandas in c:\\users\\tayo\\appdata\\local\\programs\\python\\python38-32\\lib\\site-packages (from heatmapz) (1.1.2)\n",
      "Requirement already satisfied: numpy>=1.15 in c:\\users\\tayo\\appdata\\local\\programs\\python\\python38-32\\lib\\site-packages (from matplotlib>=3.0.3->heatmapz) (1.19.2)\n",
      "Requirement already satisfied: pillow>=6.2.0 in c:\\users\\tayo\\appdata\\local\\programs\\python\\python38-32\\lib\\site-packages (from matplotlib>=3.0.3->heatmapz) (7.2.0)\n",
      "Requirement already satisfied: pyparsing!=2.0.4,!=2.1.2,!=2.1.6,>=2.0.3 in c:\\users\\tayo\\appdata\\local\\programs\\python\\python38-32\\lib\\site-packages (from matplotlib>=3.0.3->heatmapz) (2.4.7)\n",
      "Requirement already satisfied: cycler>=0.10 in c:\\users\\tayo\\appdata\\local\\programs\\python\\python38-32\\lib\\site-packages (from matplotlib>=3.0.3->heatmapz) (0.10.0)\n",
      "Note: you may need to restart the kernel to use updated packages.Requirement already satisfied: certifi>=2020.06.20 in c:\\users\\tayo\\appdata\\local\\programs\\python\\python38-32\\lib\\site-packages (from matplotlib>=3.0.3->heatmapz) (2020.6.20)\n",
      "Requirement already satisfied: kiwisolver>=1.0.1 in c:\\users\\tayo\\appdata\\local\\programs\\python\\python38-32\\lib\\site-packages (from matplotlib>=3.0.3->heatmapz) (1.2.0)\n",
      "Requirement already satisfied: python-dateutil>=2.1 in c:\\users\\tayo\\appdata\\local\\programs\\python\\python38-32\\lib\\site-packages (from matplotlib>=3.0.3->heatmapz) (2.8.1)\n",
      "Requirement already satisfied: scipy>=1.0 in c:\\users\\tayo\\appdata\\local\\programs\\python\\python38-32\\lib\\site-packages (from seaborn->heatmapz) (1.5.2)\n",
      "Requirement already satisfied: pytz>=2017.2 in c:\\users\\tayo\\appdata\\local\\programs\\python\\python38-32\\lib\\site-packages (from pandas->heatmapz) (2020.1)\n",
      "Requirement already satisfied: six in c:\\users\\tayo\\appdata\\local\\programs\\python\\python38-32\\lib\\site-packages (from cycler>=0.10->matplotlib>=3.0.3->heatmapz) (1.15.0)\n",
      "\n"
     ]
    },
    {
     "name": "stderr",
     "output_type": "stream",
     "text": [
      "WARNING: You are using pip version 20.1.1; however, version 20.2.3 is available.\n",
      "You should consider upgrading via the 'c:\\users\\tayo\\appdata\\local\\programs\\python\\python38-32\\python.exe -m pip install --upgrade pip' command.\n"
     ]
    }
   ],
   "source": [
    "pip install heatmapz"
   ]
  },
  {
   "cell_type": "code",
   "execution_count": 5,
   "metadata": {
    "scrolled": true
   },
   "outputs": [
    {
     "name": "stderr",
     "output_type": "stream",
     "text": [
      "c:\\users\\tayo\\appdata\\local\\programs\\python\\python38-32\\lib\\site-packages\\IPython\\core\\interactiveshell.py:3145: DtypeWarning: Columns (33) have mixed types.Specify dtype option on import or set low_memory=False.\n",
      "  has_raised = await self.run_ast_nodes(code_ast.body, cell_name,\n"
     ]
    }
   ],
   "source": [
    "url = \"https://s3.us.cloud-object-storage.appdomain.cloud/cf-courses-data/CognitiveClass/DP0701EN/version-2/Data-Collisions.csv\"\n",
    "df = pd.read_csv(url)"
   ]
  },
  {
   "cell_type": "code",
   "execution_count": 6,
   "metadata": {},
   "outputs": [
    {
     "data": {
      "text/plain": [
       "SEVERITYCODE        int64\n",
       "X                 float64\n",
       "Y                 float64\n",
       "OBJECTID            int64\n",
       "INCKEY              int64\n",
       "COLDETKEY           int64\n",
       "REPORTNO           object\n",
       "STATUS             object\n",
       "ADDRTYPE           object\n",
       "INTKEY            float64\n",
       "LOCATION           object\n",
       "EXCEPTRSNCODE      object\n",
       "EXCEPTRSNDESC      object\n",
       "SEVERITYCODE.1      int64\n",
       "SEVERITYDESC       object\n",
       "COLLISIONTYPE      object\n",
       "PERSONCOUNT         int64\n",
       "PEDCOUNT            int64\n",
       "PEDCYLCOUNT         int64\n",
       "VEHCOUNT            int64\n",
       "INCDATE            object\n",
       "INCDTTM            object\n",
       "JUNCTIONTYPE       object\n",
       "SDOT_COLCODE        int64\n",
       "SDOT_COLDESC       object\n",
       "INATTENTIONIND     object\n",
       "UNDERINFL          object\n",
       "WEATHER            object\n",
       "ROADCOND           object\n",
       "LIGHTCOND          object\n",
       "PEDROWNOTGRNT      object\n",
       "SDOTCOLNUM        float64\n",
       "SPEEDING           object\n",
       "ST_COLCODE         object\n",
       "ST_COLDESC         object\n",
       "SEGLANEKEY          int64\n",
       "CROSSWALKKEY        int64\n",
       "HITPARKEDCAR       object\n",
       "dtype: object"
      ]
     },
     "execution_count": 6,
     "metadata": {},
     "output_type": "execute_result"
    }
   ],
   "source": [
    "df.dtypes"
   ]
  },
  {
   "cell_type": "markdown",
   "metadata": {},
   "source": [
    "### For this investigation the dependent variable will be the severity code (\"SEVERITYCODE\") which ranks the level of severity of a collision from 1-2."
   ]
  },
  {
   "cell_type": "code",
   "execution_count": 7,
   "metadata": {},
   "outputs": [
    {
     "data": {
      "text/plain": [
       "SEVERITYCODE\n",
       "1               136485\n",
       "2                58188\n",
       "dtype: int64"
      ]
     },
     "execution_count": 7,
     "metadata": {},
     "output_type": "execute_result"
    }
   ],
   "source": [
    "df[[\"SEVERITYCODE\"]].value_counts()"
   ]
  },
  {
   "cell_type": "markdown",
   "metadata": {},
   "source": [
    "### The data consists of 38 independent variables and 194,673 rows. "
   ]
  },
  {
   "cell_type": "code",
   "execution_count": 8,
   "metadata": {},
   "outputs": [
    {
     "data": {
      "text/plain": [
       "(194673, 38)"
      ]
     },
     "execution_count": 8,
     "metadata": {},
     "output_type": "execute_result"
    }
   ],
   "source": [
    "df.shape"
   ]
  },
  {
   "cell_type": "markdown",
   "metadata": {},
   "source": [
    "### However, not all of these columns will be relevant to the model. Therefore, the following columns will be dropped from the data:"
   ]
  },
  {
   "cell_type": "markdown",
   "metadata": {},
   "source": [
    "\n",
    "| Column name                             | What is it?                               | Reason for dropping     |\n",
    "|---|---|---|\n",
    "| OBJECTID,  COLDETKEY, SDOTCOLNUM, REPORTNO | a unique identifier/label                       | not necessary for model (However INTKEY will be kept for labeling data in case dropped data is needed for refrence later on).|\n",
    "| ST_COLDESC,  SDOT_COLDESC, SDOTCOLNUM, HITPARKEDCAR, SEVERITYDESC, COLLISIONTYPE, ST_COLCODE, COLDETKEY, SPEEDING, PEDROWNOTGRNT, PERSONCOUNT, PEDCOUNT, VEHCOUNT, PEDCYLCOUNT | description of post crash (other than severity)  | Would not be useful for prediction model |\n",
    "| EXCEPTRSNCODE, EXCEPTRSNDESC, STATUS            | Unclear                                   | large amount of NaN  |\n",
    "|LOCATION, X, Y, CROSSWALKKEY, SEGLANEKEY | location information | Too many variations in data for one hot key encoding, can be refrenced later on \n",
    "|SEVERITYCODE.1| severity code | repetition of already existing severity code |\n",
    "|INCDATE | date | information already exists in INCDTTM"
   ]
  },
  {
   "cell_type": "code",
   "execution_count": 9,
   "metadata": {},
   "outputs": [
    {
     "data": {
      "text/plain": [
       "0         190862\n",
       "523609        17\n",
       "520838        15\n",
       "525567        13\n",
       "521707        10\n",
       "           ...  \n",
       "521019         1\n",
       "630862         1\n",
       "25545          1\n",
       "523322         1\n",
       "27186          1\n",
       "Name: CROSSWALKKEY, Length: 2198, dtype: int64"
      ]
     },
     "execution_count": 9,
     "metadata": {},
     "output_type": "execute_result"
    }
   ],
   "source": [
    "df[\"CROSSWALKKEY\"].value_counts()"
   ]
  },
  {
   "cell_type": "code",
   "execution_count": 10,
   "metadata": {},
   "outputs": [
    {
     "data": {
      "text/plain": [
       "0         191907\n",
       "6532          19\n",
       "6078          16\n",
       "12162         15\n",
       "10336         14\n",
       "           ...  \n",
       "35157          1\n",
       "10817          1\n",
       "15043          1\n",
       "525169         1\n",
       "16376          1\n",
       "Name: SEGLANEKEY, Length: 1955, dtype: int64"
      ]
     },
     "execution_count": 10,
     "metadata": {},
     "output_type": "execute_result"
    }
   ],
   "source": [
    "df[\"SEGLANEKEY\"].value_counts()"
   ]
  },
  {
   "cell_type": "code",
   "execution_count": 11,
   "metadata": {},
   "outputs": [],
   "source": [
    "df.drop(['OBJECTID', 'COLDETKEY', 'REPORTNO','LOCATION', 'X', 'Y','ST_COLDESC', 'SDOT_COLDESC', 'EXCEPTRSNCODE', 'EXCEPTRSNDESC', 'SDOTCOLNUM', 'HITPARKEDCAR', 'REPORTNO', 'STATUS', 'SEVERITYDESC', 'COLLISIONTYPE', 'ST_COLCODE', 'PERSONCOUNT', 'SDOT_COLCODE','INCDATE', 'SEVERITYCODE.1','PEDROWNOTGRNT', 'SPEEDING', 'CROSSWALKKEY', 'SEGLANEKEY', 'PEDCOUNT', 'PEDCYLCOUNT', 'INATTENTIONIND', 'UNDERINFL','VEHCOUNT', 'INTKEY'], axis = 1, inplace = True)"
   ]
  },
  {
   "cell_type": "code",
   "execution_count": 12,
   "metadata": {
    "scrolled": true
   },
   "outputs": [
    {
     "data": {
      "text/html": [
       "<div>\n",
       "<style scoped>\n",
       "    .dataframe tbody tr th:only-of-type {\n",
       "        vertical-align: middle;\n",
       "    }\n",
       "\n",
       "    .dataframe tbody tr th {\n",
       "        vertical-align: top;\n",
       "    }\n",
       "\n",
       "    .dataframe thead th {\n",
       "        text-align: right;\n",
       "    }\n",
       "</style>\n",
       "<table border=\"1\" class=\"dataframe\">\n",
       "  <thead>\n",
       "    <tr style=\"text-align: right;\">\n",
       "      <th></th>\n",
       "      <th>SEVERITYCODE</th>\n",
       "      <th>INCKEY</th>\n",
       "      <th>ADDRTYPE</th>\n",
       "      <th>INCDTTM</th>\n",
       "      <th>JUNCTIONTYPE</th>\n",
       "      <th>WEATHER</th>\n",
       "      <th>ROADCOND</th>\n",
       "      <th>LIGHTCOND</th>\n",
       "    </tr>\n",
       "  </thead>\n",
       "  <tbody>\n",
       "    <tr>\n",
       "      <th>0</th>\n",
       "      <td>2</td>\n",
       "      <td>1307</td>\n",
       "      <td>Intersection</td>\n",
       "      <td>3/27/2013 2:54:00 PM</td>\n",
       "      <td>At Intersection (intersection related)</td>\n",
       "      <td>Overcast</td>\n",
       "      <td>Wet</td>\n",
       "      <td>Daylight</td>\n",
       "    </tr>\n",
       "    <tr>\n",
       "      <th>1</th>\n",
       "      <td>1</td>\n",
       "      <td>52200</td>\n",
       "      <td>Block</td>\n",
       "      <td>12/20/2006 6:55:00 PM</td>\n",
       "      <td>Mid-Block (not related to intersection)</td>\n",
       "      <td>Raining</td>\n",
       "      <td>Wet</td>\n",
       "      <td>Dark - Street Lights On</td>\n",
       "    </tr>\n",
       "    <tr>\n",
       "      <th>2</th>\n",
       "      <td>1</td>\n",
       "      <td>26700</td>\n",
       "      <td>Block</td>\n",
       "      <td>11/18/2004 10:20:00 AM</td>\n",
       "      <td>Mid-Block (not related to intersection)</td>\n",
       "      <td>Overcast</td>\n",
       "      <td>Dry</td>\n",
       "      <td>Daylight</td>\n",
       "    </tr>\n",
       "    <tr>\n",
       "      <th>3</th>\n",
       "      <td>1</td>\n",
       "      <td>1144</td>\n",
       "      <td>Block</td>\n",
       "      <td>3/29/2013 9:26:00 AM</td>\n",
       "      <td>Mid-Block (not related to intersection)</td>\n",
       "      <td>Clear</td>\n",
       "      <td>Dry</td>\n",
       "      <td>Daylight</td>\n",
       "    </tr>\n",
       "    <tr>\n",
       "      <th>4</th>\n",
       "      <td>2</td>\n",
       "      <td>17700</td>\n",
       "      <td>Intersection</td>\n",
       "      <td>1/28/2004 8:04:00 AM</td>\n",
       "      <td>At Intersection (intersection related)</td>\n",
       "      <td>Raining</td>\n",
       "      <td>Wet</td>\n",
       "      <td>Daylight</td>\n",
       "    </tr>\n",
       "  </tbody>\n",
       "</table>\n",
       "</div>"
      ],
      "text/plain": [
       "   SEVERITYCODE  INCKEY      ADDRTYPE                 INCDTTM  \\\n",
       "0             2    1307  Intersection    3/27/2013 2:54:00 PM   \n",
       "1             1   52200         Block   12/20/2006 6:55:00 PM   \n",
       "2             1   26700         Block  11/18/2004 10:20:00 AM   \n",
       "3             1    1144         Block    3/29/2013 9:26:00 AM   \n",
       "4             2   17700  Intersection    1/28/2004 8:04:00 AM   \n",
       "\n",
       "                              JUNCTIONTYPE   WEATHER ROADCOND  \\\n",
       "0   At Intersection (intersection related)  Overcast      Wet   \n",
       "1  Mid-Block (not related to intersection)   Raining      Wet   \n",
       "2  Mid-Block (not related to intersection)  Overcast      Dry   \n",
       "3  Mid-Block (not related to intersection)     Clear      Dry   \n",
       "4   At Intersection (intersection related)   Raining      Wet   \n",
       "\n",
       "                 LIGHTCOND  \n",
       "0                 Daylight  \n",
       "1  Dark - Street Lights On  \n",
       "2                 Daylight  \n",
       "3                 Daylight  \n",
       "4                 Daylight  "
      ]
     },
     "execution_count": 12,
     "metadata": {},
     "output_type": "execute_result"
    }
   ],
   "source": [
    "df.head()"
   ]
  },
  {
   "cell_type": "code",
   "execution_count": 13,
   "metadata": {},
   "outputs": [
    {
     "data": {
      "text/plain": [
       "SEVERITYCODE     int64\n",
       "INCKEY           int64\n",
       "ADDRTYPE        object\n",
       "INCDTTM         object\n",
       "JUNCTIONTYPE    object\n",
       "WEATHER         object\n",
       "ROADCOND        object\n",
       "LIGHTCOND       object\n",
       "dtype: object"
      ]
     },
     "execution_count": 13,
     "metadata": {},
     "output_type": "execute_result"
    }
   ],
   "source": [
    "df.dtypes"
   ]
  },
  {
   "cell_type": "markdown",
   "metadata": {},
   "source": [
    "### Time, Date, Month, Year\n",
    "The time, date, month, year column will be devided in to hour, day of week and month as these could be used as attributes to predict the severity of a crash if there is a corellation between these variables.\n",
    "\n",
    "First the INCDTTM attribute was converted from a string to type datetime, and then turned in to a seperate columns (hour, day of week, and month) and then was relabled. "
   ]
  },
  {
   "cell_type": "code",
   "execution_count": 14,
   "metadata": {},
   "outputs": [
    {
     "data": {
      "text/plain": [
       "str"
      ]
     },
     "execution_count": 14,
     "metadata": {},
     "output_type": "execute_result"
    }
   ],
   "source": [
    "type(df['INCDTTM'][0])"
   ]
  },
  {
   "cell_type": "code",
   "execution_count": 15,
   "metadata": {},
   "outputs": [
    {
     "data": {
      "text/plain": [
       "0        2013-03-27 14:54:00\n",
       "1        2006-12-20 18:55:00\n",
       "2        2004-11-18 10:20:00\n",
       "3        2013-03-29 09:26:00\n",
       "4        2004-01-28 08:04:00\n",
       "                 ...        \n",
       "194668   2018-11-12 08:12:00\n",
       "194669   2018-12-18 09:14:00\n",
       "194670   2019-01-19 09:25:00\n",
       "194671   2019-01-15 16:48:00\n",
       "194672   2018-11-30 15:45:00\n",
       "Name: INCDTTM, Length: 194673, dtype: datetime64[ns]"
      ]
     },
     "execution_count": 15,
     "metadata": {},
     "output_type": "execute_result"
    }
   ],
   "source": [
    "df['INCDTTM']= pd.to_datetime(df['INCDTTM'])\n",
    "df['INCDTTM']"
   ]
  },
  {
   "cell_type": "markdown",
   "metadata": {},
   "source": [
    "##### Time:"
   ]
  },
  {
   "cell_type": "code",
   "execution_count": 16,
   "metadata": {},
   "outputs": [
    {
     "data": {
      "text/plain": [
       "0         14\n",
       "1         18\n",
       "2         10\n",
       "3          9\n",
       "4          8\n",
       "          ..\n",
       "194668     8\n",
       "194669     9\n",
       "194670     9\n",
       "194671    16\n",
       "194672    15\n",
       "Name: Hour, Length: 194673, dtype: int64"
      ]
     },
     "execution_count": 16,
     "metadata": {},
     "output_type": "execute_result"
    }
   ],
   "source": [
    "df['Hour'] = df['INCDTTM'].dt.hour\n",
    "df['Hour']"
   ]
  },
  {
   "cell_type": "code",
   "execution_count": 17,
   "metadata": {},
   "outputs": [
    {
     "data": {
      "text/plain": [
       "0         Hour_15\n",
       "1         Hour_19\n",
       "2         Hour_11\n",
       "3         Hour_10\n",
       "4          Hour_9\n",
       "           ...   \n",
       "194668     Hour_9\n",
       "194669    Hour_10\n",
       "194670    Hour_10\n",
       "194671    Hour_17\n",
       "194672    Hour_16\n",
       "Name: Hour, Length: 194673, dtype: object"
      ]
     },
     "execution_count": 17,
     "metadata": {},
     "output_type": "execute_result"
    }
   ],
   "source": [
    "df['Hour'] = df['Hour'].replace ({0:'Hour_1', 1:'Hour_2', 2:'Hour_3',3:'Hour_4', 4:'Hour_5',5:'Hour_6',6:'Hour_7', 7: 'Hour_8', 8: 'Hour_9', 9: 'Hour_10', 10: 'Hour_11', 11: 'Hour_12', 12: 'Hour_13', 13:'Hour_14', 14: 'Hour_15', 15: 'Hour_16', 16: 'Hour_17', 17: 'Hour_18', 18: 'Hour_19', 19: 'Hour_20', 20: 'Hour_21', 21: 'Hour_22', 22: 'Hour_23', 23: 'Hour_24'})\n",
    "df['Hour']"
   ]
  },
  {
   "cell_type": "markdown",
   "metadata": {},
   "source": [
    "#### Day of week:"
   ]
  },
  {
   "cell_type": "code",
   "execution_count": 18,
   "metadata": {},
   "outputs": [
    {
     "data": {
      "text/plain": [
       "0         2\n",
       "1         2\n",
       "2         3\n",
       "3         4\n",
       "4         2\n",
       "         ..\n",
       "194668    0\n",
       "194669    1\n",
       "194670    5\n",
       "194671    1\n",
       "194672    4\n",
       "Name: Dow, Length: 194673, dtype: int64"
      ]
     },
     "execution_count": 18,
     "metadata": {},
     "output_type": "execute_result"
    }
   ],
   "source": [
    "df['Dow'] = df['INCDTTM'].dt.dayofweek\n",
    "df['Dow']"
   ]
  },
  {
   "cell_type": "code",
   "execution_count": 19,
   "metadata": {},
   "outputs": [
    {
     "data": {
      "text/plain": [
       "0          WED\n",
       "1          WED\n",
       "2         THUR\n",
       "3          FRI\n",
       "4          WED\n",
       "          ... \n",
       "194668     MON\n",
       "194669     TUE\n",
       "194670     SAT\n",
       "194671     TUE\n",
       "194672     FRI\n",
       "Name: Dow, Length: 194673, dtype: object"
      ]
     },
     "execution_count": 19,
     "metadata": {},
     "output_type": "execute_result"
    }
   ],
   "source": [
    "df['Dow'] = df['Dow'].replace ({0:'MON', 1:'TUE', 2:'WED',3:'THUR', 4:'FRI',5:'SAT',6:'SUN'})\n",
    "df['Dow']"
   ]
  },
  {
   "cell_type": "markdown",
   "metadata": {},
   "source": [
    "#### Month:"
   ]
  },
  {
   "cell_type": "code",
   "execution_count": 20,
   "metadata": {},
   "outputs": [
    {
     "data": {
      "text/plain": [
       "0          3\n",
       "1         12\n",
       "2         11\n",
       "3          3\n",
       "4          1\n",
       "          ..\n",
       "194668    11\n",
       "194669    12\n",
       "194670     1\n",
       "194671     1\n",
       "194672    11\n",
       "Name: Month, Length: 194673, dtype: int64"
      ]
     },
     "execution_count": 20,
     "metadata": {},
     "output_type": "execute_result"
    }
   ],
   "source": [
    "df['Month'] = df['INCDTTM'].dt.month\n",
    "df['Month']"
   ]
  },
  {
   "cell_type": "code",
   "execution_count": 21,
   "metadata": {},
   "outputs": [
    {
     "data": {
      "text/plain": [
       "0         Mar\n",
       "1         Dec\n",
       "2         Nov\n",
       "3         Mar\n",
       "4         Jan\n",
       "         ... \n",
       "194668    Nov\n",
       "194669    Dec\n",
       "194670    Jan\n",
       "194671    Jan\n",
       "194672    Nov\n",
       "Name: Month, Length: 194673, dtype: object"
      ]
     },
     "execution_count": 21,
     "metadata": {},
     "output_type": "execute_result"
    }
   ],
   "source": [
    "df['Month'] = df['Month'].replace ({1:'Jan', 2:'Feb', 3:'Mar', 4:'Apr', 5:'May', 6:'Jun', 7:'Jul', 8:'Aug', 9:'Sep', 10:'Oct', 11: 'Nov', 12: 'Dec'})\n",
    "df['Month']"
   ]
  },
  {
   "cell_type": "markdown",
   "metadata": {},
   "source": [
    "#### Combining to df:"
   ]
  },
  {
   "cell_type": "code",
   "execution_count": 22,
   "metadata": {},
   "outputs": [
    {
     "data": {
      "text/html": [
       "<div>\n",
       "<style scoped>\n",
       "    .dataframe tbody tr th:only-of-type {\n",
       "        vertical-align: middle;\n",
       "    }\n",
       "\n",
       "    .dataframe tbody tr th {\n",
       "        vertical-align: top;\n",
       "    }\n",
       "\n",
       "    .dataframe thead th {\n",
       "        text-align: right;\n",
       "    }\n",
       "</style>\n",
       "<table border=\"1\" class=\"dataframe\">\n",
       "  <thead>\n",
       "    <tr style=\"text-align: right;\">\n",
       "      <th></th>\n",
       "      <th>SEVERITYCODE</th>\n",
       "      <th>INCKEY</th>\n",
       "      <th>ADDRTYPE</th>\n",
       "      <th>JUNCTIONTYPE</th>\n",
       "      <th>WEATHER</th>\n",
       "      <th>ROADCOND</th>\n",
       "      <th>LIGHTCOND</th>\n",
       "      <th>Hour</th>\n",
       "      <th>Dow</th>\n",
       "      <th>Month</th>\n",
       "    </tr>\n",
       "  </thead>\n",
       "  <tbody>\n",
       "    <tr>\n",
       "      <th>0</th>\n",
       "      <td>2</td>\n",
       "      <td>1307</td>\n",
       "      <td>Intersection</td>\n",
       "      <td>At Intersection (intersection related)</td>\n",
       "      <td>Overcast</td>\n",
       "      <td>Wet</td>\n",
       "      <td>Daylight</td>\n",
       "      <td>Hour_15</td>\n",
       "      <td>WED</td>\n",
       "      <td>Mar</td>\n",
       "    </tr>\n",
       "    <tr>\n",
       "      <th>1</th>\n",
       "      <td>1</td>\n",
       "      <td>52200</td>\n",
       "      <td>Block</td>\n",
       "      <td>Mid-Block (not related to intersection)</td>\n",
       "      <td>Raining</td>\n",
       "      <td>Wet</td>\n",
       "      <td>Dark - Street Lights On</td>\n",
       "      <td>Hour_19</td>\n",
       "      <td>WED</td>\n",
       "      <td>Dec</td>\n",
       "    </tr>\n",
       "    <tr>\n",
       "      <th>2</th>\n",
       "      <td>1</td>\n",
       "      <td>26700</td>\n",
       "      <td>Block</td>\n",
       "      <td>Mid-Block (not related to intersection)</td>\n",
       "      <td>Overcast</td>\n",
       "      <td>Dry</td>\n",
       "      <td>Daylight</td>\n",
       "      <td>Hour_11</td>\n",
       "      <td>THUR</td>\n",
       "      <td>Nov</td>\n",
       "    </tr>\n",
       "    <tr>\n",
       "      <th>3</th>\n",
       "      <td>1</td>\n",
       "      <td>1144</td>\n",
       "      <td>Block</td>\n",
       "      <td>Mid-Block (not related to intersection)</td>\n",
       "      <td>Clear</td>\n",
       "      <td>Dry</td>\n",
       "      <td>Daylight</td>\n",
       "      <td>Hour_10</td>\n",
       "      <td>FRI</td>\n",
       "      <td>Mar</td>\n",
       "    </tr>\n",
       "    <tr>\n",
       "      <th>4</th>\n",
       "      <td>2</td>\n",
       "      <td>17700</td>\n",
       "      <td>Intersection</td>\n",
       "      <td>At Intersection (intersection related)</td>\n",
       "      <td>Raining</td>\n",
       "      <td>Wet</td>\n",
       "      <td>Daylight</td>\n",
       "      <td>Hour_9</td>\n",
       "      <td>WED</td>\n",
       "      <td>Jan</td>\n",
       "    </tr>\n",
       "    <tr>\n",
       "      <th>...</th>\n",
       "      <td>...</td>\n",
       "      <td>...</td>\n",
       "      <td>...</td>\n",
       "      <td>...</td>\n",
       "      <td>...</td>\n",
       "      <td>...</td>\n",
       "      <td>...</td>\n",
       "      <td>...</td>\n",
       "      <td>...</td>\n",
       "      <td>...</td>\n",
       "    </tr>\n",
       "    <tr>\n",
       "      <th>194668</th>\n",
       "      <td>2</td>\n",
       "      <td>309534</td>\n",
       "      <td>Block</td>\n",
       "      <td>Mid-Block (not related to intersection)</td>\n",
       "      <td>Clear</td>\n",
       "      <td>Dry</td>\n",
       "      <td>Daylight</td>\n",
       "      <td>Hour_9</td>\n",
       "      <td>MON</td>\n",
       "      <td>Nov</td>\n",
       "    </tr>\n",
       "    <tr>\n",
       "      <th>194669</th>\n",
       "      <td>1</td>\n",
       "      <td>309085</td>\n",
       "      <td>Block</td>\n",
       "      <td>Mid-Block (not related to intersection)</td>\n",
       "      <td>Raining</td>\n",
       "      <td>Wet</td>\n",
       "      <td>Daylight</td>\n",
       "      <td>Hour_10</td>\n",
       "      <td>TUE</td>\n",
       "      <td>Dec</td>\n",
       "    </tr>\n",
       "    <tr>\n",
       "      <th>194670</th>\n",
       "      <td>2</td>\n",
       "      <td>311280</td>\n",
       "      <td>Intersection</td>\n",
       "      <td>At Intersection (intersection related)</td>\n",
       "      <td>Clear</td>\n",
       "      <td>Dry</td>\n",
       "      <td>Daylight</td>\n",
       "      <td>Hour_10</td>\n",
       "      <td>SAT</td>\n",
       "      <td>Jan</td>\n",
       "    </tr>\n",
       "    <tr>\n",
       "      <th>194671</th>\n",
       "      <td>2</td>\n",
       "      <td>309514</td>\n",
       "      <td>Intersection</td>\n",
       "      <td>At Intersection (intersection related)</td>\n",
       "      <td>Clear</td>\n",
       "      <td>Dry</td>\n",
       "      <td>Dusk</td>\n",
       "      <td>Hour_17</td>\n",
       "      <td>TUE</td>\n",
       "      <td>Jan</td>\n",
       "    </tr>\n",
       "    <tr>\n",
       "      <th>194672</th>\n",
       "      <td>1</td>\n",
       "      <td>308220</td>\n",
       "      <td>Block</td>\n",
       "      <td>Mid-Block (not related to intersection)</td>\n",
       "      <td>Clear</td>\n",
       "      <td>Wet</td>\n",
       "      <td>Daylight</td>\n",
       "      <td>Hour_16</td>\n",
       "      <td>FRI</td>\n",
       "      <td>Nov</td>\n",
       "    </tr>\n",
       "  </tbody>\n",
       "</table>\n",
       "<p>194673 rows × 10 columns</p>\n",
       "</div>"
      ],
      "text/plain": [
       "        SEVERITYCODE  INCKEY      ADDRTYPE  \\\n",
       "0                  2    1307  Intersection   \n",
       "1                  1   52200         Block   \n",
       "2                  1   26700         Block   \n",
       "3                  1    1144         Block   \n",
       "4                  2   17700  Intersection   \n",
       "...              ...     ...           ...   \n",
       "194668             2  309534         Block   \n",
       "194669             1  309085         Block   \n",
       "194670             2  311280  Intersection   \n",
       "194671             2  309514  Intersection   \n",
       "194672             1  308220         Block   \n",
       "\n",
       "                                   JUNCTIONTYPE   WEATHER ROADCOND  \\\n",
       "0        At Intersection (intersection related)  Overcast      Wet   \n",
       "1       Mid-Block (not related to intersection)   Raining      Wet   \n",
       "2       Mid-Block (not related to intersection)  Overcast      Dry   \n",
       "3       Mid-Block (not related to intersection)     Clear      Dry   \n",
       "4        At Intersection (intersection related)   Raining      Wet   \n",
       "...                                         ...       ...      ...   \n",
       "194668  Mid-Block (not related to intersection)     Clear      Dry   \n",
       "194669  Mid-Block (not related to intersection)   Raining      Wet   \n",
       "194670   At Intersection (intersection related)     Clear      Dry   \n",
       "194671   At Intersection (intersection related)     Clear      Dry   \n",
       "194672  Mid-Block (not related to intersection)     Clear      Wet   \n",
       "\n",
       "                      LIGHTCOND     Hour   Dow Month  \n",
       "0                      Daylight  Hour_15   WED   Mar  \n",
       "1       Dark - Street Lights On  Hour_19   WED   Dec  \n",
       "2                      Daylight  Hour_11  THUR   Nov  \n",
       "3                      Daylight  Hour_10   FRI   Mar  \n",
       "4                      Daylight   Hour_9   WED   Jan  \n",
       "...                         ...      ...   ...   ...  \n",
       "194668                 Daylight   Hour_9   MON   Nov  \n",
       "194669                 Daylight  Hour_10   TUE   Dec  \n",
       "194670                 Daylight  Hour_10   SAT   Jan  \n",
       "194671                     Dusk  Hour_17   TUE   Jan  \n",
       "194672                 Daylight  Hour_16   FRI   Nov  \n",
       "\n",
       "[194673 rows x 10 columns]"
      ]
     },
     "execution_count": 22,
     "metadata": {},
     "output_type": "execute_result"
    }
   ],
   "source": [
    "df.drop(['INCDTTM'], axis = 1, inplace = True)\n",
    "df"
   ]
  },
  {
   "cell_type": "markdown",
   "metadata": {},
   "source": [
    "### NULL values\n",
    "\n",
    "Rows with null values in them were deleted."
   ]
  },
  {
   "cell_type": "code",
   "execution_count": 23,
   "metadata": {},
   "outputs": [
    {
     "data": {
      "text/plain": [
       "SEVERITYCODE       0\n",
       "INCKEY             0\n",
       "ADDRTYPE        1926\n",
       "JUNCTIONTYPE    6329\n",
       "WEATHER         5081\n",
       "ROADCOND        5012\n",
       "LIGHTCOND       5170\n",
       "Hour               0\n",
       "Dow                0\n",
       "Month              0\n",
       "dtype: int64"
      ]
     },
     "execution_count": 23,
     "metadata": {},
     "output_type": "execute_result"
    }
   ],
   "source": [
    "df.isnull().sum() "
   ]
  },
  {
   "cell_type": "code",
   "execution_count": 24,
   "metadata": {},
   "outputs": [
    {
     "data": {
      "text/plain": [
       "(182914, 10)"
      ]
     },
     "execution_count": 24,
     "metadata": {},
     "output_type": "execute_result"
    }
   ],
   "source": [
    "df.dropna (axis = 0, inplace = True)\n",
    "df.shape"
   ]
  },
  {
   "cell_type": "markdown",
   "metadata": {},
   "source": [
    "### *Hot key encoding*"
   ]
  },
  {
   "cell_type": "code",
   "execution_count": 25,
   "metadata": {
    "scrolled": true
   },
   "outputs": [],
   "source": [
    "df_sev = df[['SEVERITYCODE']]\n",
    "\n",
    "df_addtype = pd.get_dummies(df[\"ADDRTYPE\"])\n",
    "df_wtr = pd.get_dummies(df[\"WEATHER\"])\n",
    "df_jt = pd.get_dummies(df[\"JUNCTIONTYPE\"])\n",
    "df_rc = pd.get_dummies(df[\"ROADCOND\"])\n",
    "df_li = pd.get_dummies(df[\"LIGHTCOND\"])\n",
    "df_dow = pd.get_dummies(df[\"Dow\"])\n",
    "df_hour = pd.get_dummies(df[\"Hour\"])\n",
    "df_month = pd.get_dummies(df[\"Month\"])"
   ]
  },
  {
   "cell_type": "markdown",
   "metadata": {},
   "source": [
    "Combined in to one data set:"
   ]
  },
  {
   "cell_type": "code",
   "execution_count": 26,
   "metadata": {},
   "outputs": [
    {
     "data": {
      "text/html": [
       "<div>\n",
       "<style scoped>\n",
       "    .dataframe tbody tr th:only-of-type {\n",
       "        vertical-align: middle;\n",
       "    }\n",
       "\n",
       "    .dataframe tbody tr th {\n",
       "        vertical-align: top;\n",
       "    }\n",
       "\n",
       "    .dataframe thead th {\n",
       "        text-align: right;\n",
       "    }\n",
       "</style>\n",
       "<table border=\"1\" class=\"dataframe\">\n",
       "  <thead>\n",
       "    <tr style=\"text-align: right;\">\n",
       "      <th></th>\n",
       "      <th>Alley</th>\n",
       "      <th>Block</th>\n",
       "      <th>Intersection</th>\n",
       "      <th>SEVERITYCODE</th>\n",
       "      <th>Blowing Sand/Dirt</th>\n",
       "      <th>Clear</th>\n",
       "      <th>Fog/Smog/Smoke</th>\n",
       "      <th>Other</th>\n",
       "      <th>Overcast</th>\n",
       "      <th>Partly Cloudy</th>\n",
       "      <th>...</th>\n",
       "      <th>Dec</th>\n",
       "      <th>Feb</th>\n",
       "      <th>Jan</th>\n",
       "      <th>Jul</th>\n",
       "      <th>Jun</th>\n",
       "      <th>Mar</th>\n",
       "      <th>May</th>\n",
       "      <th>Nov</th>\n",
       "      <th>Oct</th>\n",
       "      <th>Sep</th>\n",
       "    </tr>\n",
       "  </thead>\n",
       "  <tbody>\n",
       "    <tr>\n",
       "      <th>0</th>\n",
       "      <td>0</td>\n",
       "      <td>0</td>\n",
       "      <td>1</td>\n",
       "      <td>2</td>\n",
       "      <td>0</td>\n",
       "      <td>0</td>\n",
       "      <td>0</td>\n",
       "      <td>0</td>\n",
       "      <td>1</td>\n",
       "      <td>0</td>\n",
       "      <td>...</td>\n",
       "      <td>0</td>\n",
       "      <td>0</td>\n",
       "      <td>0</td>\n",
       "      <td>0</td>\n",
       "      <td>0</td>\n",
       "      <td>1</td>\n",
       "      <td>0</td>\n",
       "      <td>0</td>\n",
       "      <td>0</td>\n",
       "      <td>0</td>\n",
       "    </tr>\n",
       "    <tr>\n",
       "      <th>1</th>\n",
       "      <td>0</td>\n",
       "      <td>1</td>\n",
       "      <td>0</td>\n",
       "      <td>1</td>\n",
       "      <td>0</td>\n",
       "      <td>0</td>\n",
       "      <td>0</td>\n",
       "      <td>0</td>\n",
       "      <td>0</td>\n",
       "      <td>0</td>\n",
       "      <td>...</td>\n",
       "      <td>1</td>\n",
       "      <td>0</td>\n",
       "      <td>0</td>\n",
       "      <td>0</td>\n",
       "      <td>0</td>\n",
       "      <td>0</td>\n",
       "      <td>0</td>\n",
       "      <td>0</td>\n",
       "      <td>0</td>\n",
       "      <td>0</td>\n",
       "    </tr>\n",
       "    <tr>\n",
       "      <th>2</th>\n",
       "      <td>0</td>\n",
       "      <td>1</td>\n",
       "      <td>0</td>\n",
       "      <td>1</td>\n",
       "      <td>0</td>\n",
       "      <td>0</td>\n",
       "      <td>0</td>\n",
       "      <td>0</td>\n",
       "      <td>1</td>\n",
       "      <td>0</td>\n",
       "      <td>...</td>\n",
       "      <td>0</td>\n",
       "      <td>0</td>\n",
       "      <td>0</td>\n",
       "      <td>0</td>\n",
       "      <td>0</td>\n",
       "      <td>0</td>\n",
       "      <td>0</td>\n",
       "      <td>1</td>\n",
       "      <td>0</td>\n",
       "      <td>0</td>\n",
       "    </tr>\n",
       "    <tr>\n",
       "      <th>3</th>\n",
       "      <td>0</td>\n",
       "      <td>1</td>\n",
       "      <td>0</td>\n",
       "      <td>1</td>\n",
       "      <td>0</td>\n",
       "      <td>1</td>\n",
       "      <td>0</td>\n",
       "      <td>0</td>\n",
       "      <td>0</td>\n",
       "      <td>0</td>\n",
       "      <td>...</td>\n",
       "      <td>0</td>\n",
       "      <td>0</td>\n",
       "      <td>0</td>\n",
       "      <td>0</td>\n",
       "      <td>0</td>\n",
       "      <td>1</td>\n",
       "      <td>0</td>\n",
       "      <td>0</td>\n",
       "      <td>0</td>\n",
       "      <td>0</td>\n",
       "    </tr>\n",
       "    <tr>\n",
       "      <th>4</th>\n",
       "      <td>0</td>\n",
       "      <td>0</td>\n",
       "      <td>1</td>\n",
       "      <td>2</td>\n",
       "      <td>0</td>\n",
       "      <td>0</td>\n",
       "      <td>0</td>\n",
       "      <td>0</td>\n",
       "      <td>0</td>\n",
       "      <td>0</td>\n",
       "      <td>...</td>\n",
       "      <td>0</td>\n",
       "      <td>0</td>\n",
       "      <td>1</td>\n",
       "      <td>0</td>\n",
       "      <td>0</td>\n",
       "      <td>0</td>\n",
       "      <td>0</td>\n",
       "      <td>0</td>\n",
       "      <td>0</td>\n",
       "      <td>0</td>\n",
       "    </tr>\n",
       "    <tr>\n",
       "      <th>...</th>\n",
       "      <td>...</td>\n",
       "      <td>...</td>\n",
       "      <td>...</td>\n",
       "      <td>...</td>\n",
       "      <td>...</td>\n",
       "      <td>...</td>\n",
       "      <td>...</td>\n",
       "      <td>...</td>\n",
       "      <td>...</td>\n",
       "      <td>...</td>\n",
       "      <td>...</td>\n",
       "      <td>...</td>\n",
       "      <td>...</td>\n",
       "      <td>...</td>\n",
       "      <td>...</td>\n",
       "      <td>...</td>\n",
       "      <td>...</td>\n",
       "      <td>...</td>\n",
       "      <td>...</td>\n",
       "      <td>...</td>\n",
       "      <td>...</td>\n",
       "    </tr>\n",
       "    <tr>\n",
       "      <th>194668</th>\n",
       "      <td>0</td>\n",
       "      <td>1</td>\n",
       "      <td>0</td>\n",
       "      <td>2</td>\n",
       "      <td>0</td>\n",
       "      <td>1</td>\n",
       "      <td>0</td>\n",
       "      <td>0</td>\n",
       "      <td>0</td>\n",
       "      <td>0</td>\n",
       "      <td>...</td>\n",
       "      <td>0</td>\n",
       "      <td>0</td>\n",
       "      <td>0</td>\n",
       "      <td>0</td>\n",
       "      <td>0</td>\n",
       "      <td>0</td>\n",
       "      <td>0</td>\n",
       "      <td>1</td>\n",
       "      <td>0</td>\n",
       "      <td>0</td>\n",
       "    </tr>\n",
       "    <tr>\n",
       "      <th>194669</th>\n",
       "      <td>0</td>\n",
       "      <td>1</td>\n",
       "      <td>0</td>\n",
       "      <td>1</td>\n",
       "      <td>0</td>\n",
       "      <td>0</td>\n",
       "      <td>0</td>\n",
       "      <td>0</td>\n",
       "      <td>0</td>\n",
       "      <td>0</td>\n",
       "      <td>...</td>\n",
       "      <td>1</td>\n",
       "      <td>0</td>\n",
       "      <td>0</td>\n",
       "      <td>0</td>\n",
       "      <td>0</td>\n",
       "      <td>0</td>\n",
       "      <td>0</td>\n",
       "      <td>0</td>\n",
       "      <td>0</td>\n",
       "      <td>0</td>\n",
       "    </tr>\n",
       "    <tr>\n",
       "      <th>194670</th>\n",
       "      <td>0</td>\n",
       "      <td>0</td>\n",
       "      <td>1</td>\n",
       "      <td>2</td>\n",
       "      <td>0</td>\n",
       "      <td>1</td>\n",
       "      <td>0</td>\n",
       "      <td>0</td>\n",
       "      <td>0</td>\n",
       "      <td>0</td>\n",
       "      <td>...</td>\n",
       "      <td>0</td>\n",
       "      <td>0</td>\n",
       "      <td>1</td>\n",
       "      <td>0</td>\n",
       "      <td>0</td>\n",
       "      <td>0</td>\n",
       "      <td>0</td>\n",
       "      <td>0</td>\n",
       "      <td>0</td>\n",
       "      <td>0</td>\n",
       "    </tr>\n",
       "    <tr>\n",
       "      <th>194671</th>\n",
       "      <td>0</td>\n",
       "      <td>0</td>\n",
       "      <td>1</td>\n",
       "      <td>2</td>\n",
       "      <td>0</td>\n",
       "      <td>1</td>\n",
       "      <td>0</td>\n",
       "      <td>0</td>\n",
       "      <td>0</td>\n",
       "      <td>0</td>\n",
       "      <td>...</td>\n",
       "      <td>0</td>\n",
       "      <td>0</td>\n",
       "      <td>1</td>\n",
       "      <td>0</td>\n",
       "      <td>0</td>\n",
       "      <td>0</td>\n",
       "      <td>0</td>\n",
       "      <td>0</td>\n",
       "      <td>0</td>\n",
       "      <td>0</td>\n",
       "    </tr>\n",
       "    <tr>\n",
       "      <th>194672</th>\n",
       "      <td>0</td>\n",
       "      <td>1</td>\n",
       "      <td>0</td>\n",
       "      <td>1</td>\n",
       "      <td>0</td>\n",
       "      <td>1</td>\n",
       "      <td>0</td>\n",
       "      <td>0</td>\n",
       "      <td>0</td>\n",
       "      <td>0</td>\n",
       "      <td>...</td>\n",
       "      <td>0</td>\n",
       "      <td>0</td>\n",
       "      <td>0</td>\n",
       "      <td>0</td>\n",
       "      <td>0</td>\n",
       "      <td>0</td>\n",
       "      <td>0</td>\n",
       "      <td>1</td>\n",
       "      <td>0</td>\n",
       "      <td>0</td>\n",
       "    </tr>\n",
       "  </tbody>\n",
       "</table>\n",
       "<p>182914 rows × 83 columns</p>\n",
       "</div>"
      ],
      "text/plain": [
       "        Alley  Block  Intersection  SEVERITYCODE  Blowing Sand/Dirt  Clear  \\\n",
       "0           0      0             1             2                  0      0   \n",
       "1           0      1             0             1                  0      0   \n",
       "2           0      1             0             1                  0      0   \n",
       "3           0      1             0             1                  0      1   \n",
       "4           0      0             1             2                  0      0   \n",
       "...       ...    ...           ...           ...                ...    ...   \n",
       "194668      0      1             0             2                  0      1   \n",
       "194669      0      1             0             1                  0      0   \n",
       "194670      0      0             1             2                  0      1   \n",
       "194671      0      0             1             2                  0      1   \n",
       "194672      0      1             0             1                  0      1   \n",
       "\n",
       "        Fog/Smog/Smoke  Other  Overcast  Partly Cloudy  ...  Dec  Feb  Jan  \\\n",
       "0                    0      0         1              0  ...    0    0    0   \n",
       "1                    0      0         0              0  ...    1    0    0   \n",
       "2                    0      0         1              0  ...    0    0    0   \n",
       "3                    0      0         0              0  ...    0    0    0   \n",
       "4                    0      0         0              0  ...    0    0    1   \n",
       "...                ...    ...       ...            ...  ...  ...  ...  ...   \n",
       "194668               0      0         0              0  ...    0    0    0   \n",
       "194669               0      0         0              0  ...    1    0    0   \n",
       "194670               0      0         0              0  ...    0    0    1   \n",
       "194671               0      0         0              0  ...    0    0    1   \n",
       "194672               0      0         0              0  ...    0    0    0   \n",
       "\n",
       "        Jul  Jun  Mar  May  Nov  Oct  Sep  \n",
       "0         0    0    1    0    0    0    0  \n",
       "1         0    0    0    0    0    0    0  \n",
       "2         0    0    0    0    1    0    0  \n",
       "3         0    0    1    0    0    0    0  \n",
       "4         0    0    0    0    0    0    0  \n",
       "...     ...  ...  ...  ...  ...  ...  ...  \n",
       "194668    0    0    0    0    1    0    0  \n",
       "194669    0    0    0    0    0    0    0  \n",
       "194670    0    0    0    0    0    0    0  \n",
       "194671    0    0    0    0    0    0    0  \n",
       "194672    0    0    0    0    1    0    0  \n",
       "\n",
       "[182914 rows x 83 columns]"
      ]
     },
     "execution_count": 26,
     "metadata": {},
     "output_type": "execute_result"
    }
   ],
   "source": [
    "df_addtype_s= pd.concat([df_addtype,df_sev, df_wtr, df_jt, df_rc, df_li, df_dow, df_hour, df_month],axis = 1, sort = False)\n",
    "df_addtype_s"
   ]
  },
  {
   "cell_type": "markdown",
   "metadata": {},
   "source": [
    "### *Correlation of attributes*"
   ]
  },
  {
   "cell_type": "code",
   "execution_count": 27,
   "metadata": {},
   "outputs": [
    {
     "data": {
      "text/html": [
       "<div>\n",
       "<style scoped>\n",
       "    .dataframe tbody tr th:only-of-type {\n",
       "        vertical-align: middle;\n",
       "    }\n",
       "\n",
       "    .dataframe tbody tr th {\n",
       "        vertical-align: top;\n",
       "    }\n",
       "\n",
       "    .dataframe thead th {\n",
       "        text-align: right;\n",
       "    }\n",
       "</style>\n",
       "<table border=\"1\" class=\"dataframe\">\n",
       "  <thead>\n",
       "    <tr style=\"text-align: right;\">\n",
       "      <th></th>\n",
       "      <th>Alley</th>\n",
       "      <th>Block</th>\n",
       "      <th>Intersection</th>\n",
       "      <th>SEVERITYCODE</th>\n",
       "      <th>Blowing Sand/Dirt</th>\n",
       "      <th>Clear</th>\n",
       "      <th>Fog/Smog/Smoke</th>\n",
       "      <th>Other</th>\n",
       "      <th>Overcast</th>\n",
       "      <th>Partly Cloudy</th>\n",
       "      <th>...</th>\n",
       "      <th>Dec</th>\n",
       "      <th>Feb</th>\n",
       "      <th>Jan</th>\n",
       "      <th>Jul</th>\n",
       "      <th>Jun</th>\n",
       "      <th>Mar</th>\n",
       "      <th>May</th>\n",
       "      <th>Nov</th>\n",
       "      <th>Oct</th>\n",
       "      <th>Sep</th>\n",
       "    </tr>\n",
       "  </thead>\n",
       "  <tbody>\n",
       "    <tr>\n",
       "      <th>Alley</th>\n",
       "      <td>1.000000</td>\n",
       "      <td>-0.049156</td>\n",
       "      <td>-0.026096</td>\n",
       "      <td>-0.014447</td>\n",
       "      <td>-0.000587</td>\n",
       "      <td>-0.001282</td>\n",
       "      <td>0.000792</td>\n",
       "      <td>0.007284</td>\n",
       "      <td>-0.002974</td>\n",
       "      <td>-0.000188</td>\n",
       "      <td>...</td>\n",
       "      <td>0.002968</td>\n",
       "      <td>0.003605</td>\n",
       "      <td>-0.002631</td>\n",
       "      <td>0.000129</td>\n",
       "      <td>0.000498</td>\n",
       "      <td>0.001884</td>\n",
       "      <td>0.003737</td>\n",
       "      <td>-0.003352</td>\n",
       "      <td>-0.001870</td>\n",
       "      <td>-0.004053</td>\n",
       "    </tr>\n",
       "    <tr>\n",
       "      <th>Block</th>\n",
       "      <td>-0.049156</td>\n",
       "      <td>1.000000</td>\n",
       "      <td>-0.997168</td>\n",
       "      <td>-0.191389</td>\n",
       "      <td>0.004928</td>\n",
       "      <td>-0.028892</td>\n",
       "      <td>0.001703</td>\n",
       "      <td>0.022011</td>\n",
       "      <td>-0.011393</td>\n",
       "      <td>-0.002773</td>\n",
       "      <td>...</td>\n",
       "      <td>-0.009422</td>\n",
       "      <td>-0.003084</td>\n",
       "      <td>-0.003764</td>\n",
       "      <td>0.001974</td>\n",
       "      <td>0.005349</td>\n",
       "      <td>-0.008068</td>\n",
       "      <td>-0.001741</td>\n",
       "      <td>-0.006195</td>\n",
       "      <td>0.003082</td>\n",
       "      <td>0.005779</td>\n",
       "    </tr>\n",
       "    <tr>\n",
       "      <th>Intersection</th>\n",
       "      <td>-0.026096</td>\n",
       "      <td>-0.997168</td>\n",
       "      <td>1.000000</td>\n",
       "      <td>0.192643</td>\n",
       "      <td>-0.004888</td>\n",
       "      <td>0.029014</td>\n",
       "      <td>-0.001764</td>\n",
       "      <td>-0.022578</td>\n",
       "      <td>0.011627</td>\n",
       "      <td>0.002790</td>\n",
       "      <td>...</td>\n",
       "      <td>0.009207</td>\n",
       "      <td>0.002815</td>\n",
       "      <td>0.003965</td>\n",
       "      <td>-0.001985</td>\n",
       "      <td>-0.005391</td>\n",
       "      <td>0.007933</td>\n",
       "      <td>0.001461</td>\n",
       "      <td>0.006453</td>\n",
       "      <td>-0.002944</td>\n",
       "      <td>-0.005479</td>\n",
       "    </tr>\n",
       "    <tr>\n",
       "      <th>SEVERITYCODE</th>\n",
       "      <td>-0.014447</td>\n",
       "      <td>-0.191389</td>\n",
       "      <td>0.192643</td>\n",
       "      <td>1.000000</td>\n",
       "      <td>-0.001570</td>\n",
       "      <td>0.043737</td>\n",
       "      <td>0.002973</td>\n",
       "      <td>-0.021706</td>\n",
       "      <td>0.008513</td>\n",
       "      <td>0.003283</td>\n",
       "      <td>...</td>\n",
       "      <td>-0.013136</td>\n",
       "      <td>-0.009920</td>\n",
       "      <td>-0.009160</td>\n",
       "      <td>0.011267</td>\n",
       "      <td>-0.001293</td>\n",
       "      <td>-0.004056</td>\n",
       "      <td>0.007552</td>\n",
       "      <td>-0.002806</td>\n",
       "      <td>0.007573</td>\n",
       "      <td>0.003749</td>\n",
       "    </tr>\n",
       "    <tr>\n",
       "      <th>Blowing Sand/Dirt</th>\n",
       "      <td>-0.000587</td>\n",
       "      <td>0.004928</td>\n",
       "      <td>-0.004888</td>\n",
       "      <td>-0.001570</td>\n",
       "      <td>1.000000</td>\n",
       "      <td>-0.019893</td>\n",
       "      <td>-0.000904</td>\n",
       "      <td>-0.001048</td>\n",
       "      <td>-0.006840</td>\n",
       "      <td>-0.000086</td>\n",
       "      <td>...</td>\n",
       "      <td>-0.001118</td>\n",
       "      <td>0.010961</td>\n",
       "      <td>-0.004964</td>\n",
       "      <td>-0.002553</td>\n",
       "      <td>-0.002615</td>\n",
       "      <td>-0.001310</td>\n",
       "      <td>0.003341</td>\n",
       "      <td>0.005725</td>\n",
       "      <td>-0.001726</td>\n",
       "      <td>0.001190</td>\n",
       "    </tr>\n",
       "    <tr>\n",
       "      <th>...</th>\n",
       "      <td>...</td>\n",
       "      <td>...</td>\n",
       "      <td>...</td>\n",
       "      <td>...</td>\n",
       "      <td>...</td>\n",
       "      <td>...</td>\n",
       "      <td>...</td>\n",
       "      <td>...</td>\n",
       "      <td>...</td>\n",
       "      <td>...</td>\n",
       "      <td>...</td>\n",
       "      <td>...</td>\n",
       "      <td>...</td>\n",
       "      <td>...</td>\n",
       "      <td>...</td>\n",
       "      <td>...</td>\n",
       "      <td>...</td>\n",
       "      <td>...</td>\n",
       "      <td>...</td>\n",
       "      <td>...</td>\n",
       "      <td>...</td>\n",
       "    </tr>\n",
       "    <tr>\n",
       "      <th>Mar</th>\n",
       "      <td>0.001884</td>\n",
       "      <td>-0.008068</td>\n",
       "      <td>0.007933</td>\n",
       "      <td>-0.004056</td>\n",
       "      <td>-0.001310</td>\n",
       "      <td>-0.036951</td>\n",
       "      <td>-0.013058</td>\n",
       "      <td>0.002117</td>\n",
       "      <td>0.017112</td>\n",
       "      <td>0.005989</td>\n",
       "      <td>...</td>\n",
       "      <td>-0.088749</td>\n",
       "      <td>-0.083936</td>\n",
       "      <td>-0.091436</td>\n",
       "      <td>-0.091378</td>\n",
       "      <td>-0.092193</td>\n",
       "      <td>1.000000</td>\n",
       "      <td>-0.092334</td>\n",
       "      <td>-0.092347</td>\n",
       "      <td>-0.095777</td>\n",
       "      <td>-0.090173</td>\n",
       "    </tr>\n",
       "    <tr>\n",
       "      <th>May</th>\n",
       "      <td>0.003737</td>\n",
       "      <td>-0.001741</td>\n",
       "      <td>0.001461</td>\n",
       "      <td>0.007552</td>\n",
       "      <td>0.003341</td>\n",
       "      <td>0.051526</td>\n",
       "      <td>-0.015134</td>\n",
       "      <td>-0.003662</td>\n",
       "      <td>-0.014972</td>\n",
       "      <td>-0.001601</td>\n",
       "      <td>...</td>\n",
       "      <td>-0.090120</td>\n",
       "      <td>-0.085232</td>\n",
       "      <td>-0.092849</td>\n",
       "      <td>-0.092790</td>\n",
       "      <td>-0.093617</td>\n",
       "      <td>-0.092334</td>\n",
       "      <td>1.000000</td>\n",
       "      <td>-0.093774</td>\n",
       "      <td>-0.097257</td>\n",
       "      <td>-0.091566</td>\n",
       "    </tr>\n",
       "    <tr>\n",
       "      <th>Nov</th>\n",
       "      <td>-0.003352</td>\n",
       "      <td>-0.006195</td>\n",
       "      <td>0.006453</td>\n",
       "      <td>-0.002806</td>\n",
       "      <td>0.005725</td>\n",
       "      <td>-0.125352</td>\n",
       "      <td>0.014304</td>\n",
       "      <td>0.002768</td>\n",
       "      <td>0.036099</td>\n",
       "      <td>-0.001601</td>\n",
       "      <td>...</td>\n",
       "      <td>-0.090132</td>\n",
       "      <td>-0.085244</td>\n",
       "      <td>-0.092862</td>\n",
       "      <td>-0.092802</td>\n",
       "      <td>-0.093630</td>\n",
       "      <td>-0.092347</td>\n",
       "      <td>-0.093774</td>\n",
       "      <td>1.000000</td>\n",
       "      <td>-0.097271</td>\n",
       "      <td>-0.091579</td>\n",
       "    </tr>\n",
       "    <tr>\n",
       "      <th>Oct</th>\n",
       "      <td>-0.001870</td>\n",
       "      <td>0.003082</td>\n",
       "      <td>-0.002944</td>\n",
       "      <td>0.007573</td>\n",
       "      <td>-0.001726</td>\n",
       "      <td>-0.056755</td>\n",
       "      <td>0.016539</td>\n",
       "      <td>-0.003378</td>\n",
       "      <td>0.020531</td>\n",
       "      <td>-0.001661</td>\n",
       "      <td>...</td>\n",
       "      <td>-0.093480</td>\n",
       "      <td>-0.088410</td>\n",
       "      <td>-0.096311</td>\n",
       "      <td>-0.096249</td>\n",
       "      <td>-0.097108</td>\n",
       "      <td>-0.095777</td>\n",
       "      <td>-0.097257</td>\n",
       "      <td>-0.097271</td>\n",
       "      <td>1.000000</td>\n",
       "      <td>-0.094980</td>\n",
       "    </tr>\n",
       "    <tr>\n",
       "      <th>Sep</th>\n",
       "      <td>-0.004053</td>\n",
       "      <td>0.005779</td>\n",
       "      <td>-0.005479</td>\n",
       "      <td>0.003749</td>\n",
       "      <td>0.001190</td>\n",
       "      <td>0.066074</td>\n",
       "      <td>-0.006743</td>\n",
       "      <td>-0.001010</td>\n",
       "      <td>-0.026692</td>\n",
       "      <td>-0.001563</td>\n",
       "      <td>...</td>\n",
       "      <td>-0.088010</td>\n",
       "      <td>-0.083237</td>\n",
       "      <td>-0.090675</td>\n",
       "      <td>-0.090617</td>\n",
       "      <td>-0.091425</td>\n",
       "      <td>-0.090173</td>\n",
       "      <td>-0.091566</td>\n",
       "      <td>-0.091579</td>\n",
       "      <td>-0.094980</td>\n",
       "      <td>1.000000</td>\n",
       "    </tr>\n",
       "  </tbody>\n",
       "</table>\n",
       "<p>83 rows × 83 columns</p>\n",
       "</div>"
      ],
      "text/plain": [
       "                      Alley     Block  Intersection  SEVERITYCODE  \\\n",
       "Alley              1.000000 -0.049156     -0.026096     -0.014447   \n",
       "Block             -0.049156  1.000000     -0.997168     -0.191389   \n",
       "Intersection      -0.026096 -0.997168      1.000000      0.192643   \n",
       "SEVERITYCODE      -0.014447 -0.191389      0.192643      1.000000   \n",
       "Blowing Sand/Dirt -0.000587  0.004928     -0.004888     -0.001570   \n",
       "...                     ...       ...           ...           ...   \n",
       "Mar                0.001884 -0.008068      0.007933     -0.004056   \n",
       "May                0.003737 -0.001741      0.001461      0.007552   \n",
       "Nov               -0.003352 -0.006195      0.006453     -0.002806   \n",
       "Oct               -0.001870  0.003082     -0.002944      0.007573   \n",
       "Sep               -0.004053  0.005779     -0.005479      0.003749   \n",
       "\n",
       "                   Blowing Sand/Dirt     Clear  Fog/Smog/Smoke     Other  \\\n",
       "Alley                      -0.000587 -0.001282        0.000792  0.007284   \n",
       "Block                       0.004928 -0.028892        0.001703  0.022011   \n",
       "Intersection               -0.004888  0.029014       -0.001764 -0.022578   \n",
       "SEVERITYCODE               -0.001570  0.043737        0.002973 -0.021706   \n",
       "Blowing Sand/Dirt           1.000000 -0.019893       -0.000904 -0.001048   \n",
       "...                              ...       ...             ...       ...   \n",
       "Mar                        -0.001310 -0.036951       -0.013058  0.002117   \n",
       "May                         0.003341  0.051526       -0.015134 -0.003662   \n",
       "Nov                         0.005725 -0.125352        0.014304  0.002768   \n",
       "Oct                        -0.001726 -0.056755        0.016539 -0.003378   \n",
       "Sep                         0.001190  0.066074       -0.006743 -0.001010   \n",
       "\n",
       "                   Overcast  Partly Cloudy  ...       Dec       Feb       Jan  \\\n",
       "Alley             -0.002974      -0.000188  ...  0.002968  0.003605 -0.002631   \n",
       "Block             -0.011393      -0.002773  ... -0.009422 -0.003084 -0.003764   \n",
       "Intersection       0.011627       0.002790  ...  0.009207  0.002815  0.003965   \n",
       "SEVERITYCODE       0.008513       0.003283  ... -0.013136 -0.009920 -0.009160   \n",
       "Blowing Sand/Dirt -0.006840      -0.000086  ... -0.001118  0.010961 -0.004964   \n",
       "...                     ...            ...  ...       ...       ...       ...   \n",
       "Mar                0.017112       0.005989  ... -0.088749 -0.083936 -0.091436   \n",
       "May               -0.014972      -0.001601  ... -0.090120 -0.085232 -0.092849   \n",
       "Nov                0.036099      -0.001601  ... -0.090132 -0.085244 -0.092862   \n",
       "Oct                0.020531      -0.001661  ... -0.093480 -0.088410 -0.096311   \n",
       "Sep               -0.026692      -0.001563  ... -0.088010 -0.083237 -0.090675   \n",
       "\n",
       "                        Jul       Jun       Mar       May       Nov       Oct  \\\n",
       "Alley              0.000129  0.000498  0.001884  0.003737 -0.003352 -0.001870   \n",
       "Block              0.001974  0.005349 -0.008068 -0.001741 -0.006195  0.003082   \n",
       "Intersection      -0.001985 -0.005391  0.007933  0.001461  0.006453 -0.002944   \n",
       "SEVERITYCODE       0.011267 -0.001293 -0.004056  0.007552 -0.002806  0.007573   \n",
       "Blowing Sand/Dirt -0.002553 -0.002615 -0.001310  0.003341  0.005725 -0.001726   \n",
       "...                     ...       ...       ...       ...       ...       ...   \n",
       "Mar               -0.091378 -0.092193  1.000000 -0.092334 -0.092347 -0.095777   \n",
       "May               -0.092790 -0.093617 -0.092334  1.000000 -0.093774 -0.097257   \n",
       "Nov               -0.092802 -0.093630 -0.092347 -0.093774  1.000000 -0.097271   \n",
       "Oct               -0.096249 -0.097108 -0.095777 -0.097257 -0.097271  1.000000   \n",
       "Sep               -0.090617 -0.091425 -0.090173 -0.091566 -0.091579 -0.094980   \n",
       "\n",
       "                        Sep  \n",
       "Alley             -0.004053  \n",
       "Block              0.005779  \n",
       "Intersection      -0.005479  \n",
       "SEVERITYCODE       0.003749  \n",
       "Blowing Sand/Dirt  0.001190  \n",
       "...                     ...  \n",
       "Mar               -0.090173  \n",
       "May               -0.091566  \n",
       "Nov               -0.091579  \n",
       "Oct               -0.094980  \n",
       "Sep                1.000000  \n",
       "\n",
       "[83 rows x 83 columns]"
      ]
     },
     "execution_count": 27,
     "metadata": {},
     "output_type": "execute_result"
    }
   ],
   "source": [
    "df_addtype_s.corr()"
   ]
  },
  {
   "cell_type": "markdown",
   "metadata": {},
   "source": [
    "### Correlation Matrix"
   ]
  },
  {
   "cell_type": "code",
   "execution_count": 28,
   "metadata": {},
   "outputs": [],
   "source": [
    "import matplotlib.pyplot as plt"
   ]
  },
  {
   "cell_type": "code",
   "execution_count": 29,
   "metadata": {},
   "outputs": [
    {
     "data": {
      "text/plain": [
       "Text(0.5, 1.0, 'Correlation Matrix')"
      ]
     },
     "execution_count": 29,
     "metadata": {},
     "output_type": "execute_result"
    },
    {
     "data": {
      "image/png": "[encoded data removed]",
      "text/plain": [
       "<Figure size 1440x1080 with 2 Axes>"
      ]
     },
     "metadata": {
      "needs_background": "light"
     },
     "output_type": "display_data"
    }
   ],
   "source": [
    "plt.subplots(figsize = (20,15))\n",
    "corr = df_addtype_s.corr()\n",
    "ax = sns.heatmap(\n",
    "    corr,\n",
    "    vmin=-1, vmax=1, center=0,\n",
    "    cmap=sns.diverging_palette(20, 220, n=200),\n",
    "    square=True\n",
    ")\n",
    "plt.xticks(range(df_addtype_s.shape[1]), df_addtype_s.columns, fontsize=7, rotation=90)\n",
    "plt.yticks(range(df_addtype_s.shape[1]), df_addtype_s.columns, fontsize=7)\n",
    "ax.set_title(\"Correlation Matrix\", fontsize = 16)"
   ]
  },
  {
   "cell_type": "markdown",
   "metadata": {},
   "source": []
  }
 ],
 "metadata": {
  "kernelspec": {
   "display_name": "Python 3",
   "language": "python",
   "name": "python3"
  },
  "language_info": {
   "codemirror_mode": {
    "name": "ipython",
    "version": 3
   },
   "file_extension": ".py",
   "mimetype": "text/x-python",
   "name": "python",
   "nbconvert_exporter": "python",
   "pygments_lexer": "ipython3",
   "version": "3.8.5"
  }
 },
 "nbformat": 4,
 "nbformat_minor": 4
}
