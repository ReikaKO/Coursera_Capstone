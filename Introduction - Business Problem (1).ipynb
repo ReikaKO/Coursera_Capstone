{
 "cells": [
  {
   "cell_type": "markdown",
   "metadata": {},
   "source": [
    "# Introduction/Business Problem\n",
    "\n",
    "<img align=\"right\" src=\"https://img.sfist.com/2020/05/post-covid-traffic.jpg\" width=\"500\"/>\n",
    "\n",
    "### **Problem**:\n",
    "Due to offices reopening, there is projected to be an increase in traffic in SanFransisco. The possibility for commuting problems to arrise will liekly increase, espeshially for SanFransisco which compared to other cities would have a disproportionally longer travel time if all transit users decide to go on the road [refer to graph on right](https://arxiv.org/pdf/2005.01610.pdf), which could lead to a higher possibility of accidents. \n",
    "\n",
    "\n",
    "\n",
    "### **Background**: \n",
    "Traffic accidents have both a social and economic cost to society. On a societal level **traffic accidents lead to around 1.3 million fatalities each year and around 50 miilion injuries** [1](https://books.google.com.hk/books?hl=en&lr=&id=Ndrf6DuCQHMC&oi=fnd&pg=PP2&ots=tfcDIseXVE&sig=JyJ72zPIaSHdHyDwoIzclm-wa_c&redir_esc=y#v=onepage&q&f=false). On an economic level the WHO has estimated that **road accidents have cost high income countries around 516 billion USD a year** [2](https://books.google.com.hk/books?hl=en&lr=&id=TFw0DgAAQBAJ&oi=fnd&pg=PR3&ots=vaKDWLYFaE&sig=8E4wRyUX_BFfhN89dcfnCffB3bE&redir_esc=y#v=onepage&q&f=false). Espesishlly in America which is infamous for their expensive health care, knowing the risk of these costs could hypothetically save money for the end user. From both and social and economic stand point creating a way to reduce road accidents would be benifitial to the individual and also to society. \n",
    "\n",
    "In SanFransisco there is currently a way of getting informaiton on traffic through live updates, which people can check before heaing out[3](https://abc7news.com/traffic/). Although people could use this information to avoid traffic and areas where crashes have just happened, it does not predict the likelyhood of that person driving of getting into a car crash.\n",
    "\n",
    "\n",
    "### **Proposed Solution**: \n",
    "To create a website through gethub pages so that people living in or visiting sanfransisco can check the likelyhood and the possibile severity of a crash, if they were to drive at that given moment. This could help save lives and save money on medical expenses. Additionally through providing information on these things it could help reduce the number of cars (which is a big problem in SanFransisco as mentioned earlier) on the road and thus make it safer for everyone. \n",
    "\n",
    "\n",
    "### **Objectives**: \n",
    "The purpose of this research is to look in to differnt factors such as weather and road conditions to asses the impact on the severity of a car crash in order to train a model which would be able to predict the severity of a crash. This information will then become avaible on a website for use by the end-user."
   ]
  }
 ],
 "metadata": {
  "kernelspec": {
   "display_name": "Python 3",
   "language": "python",
   "name": "python3"
  },
  "language_info": {
   "codemirror_mode": {
    "name": "ipython",
    "version": 3
   },
   "file_extension": ".py",
   "mimetype": "text/x-python",
   "name": "python",
   "nbconvert_exporter": "python",
   "pygments_lexer": "ipython3",
   "version": "3.8.5"
  }
 },
 "nbformat": 4,
 "nbformat_minor": 4
}
